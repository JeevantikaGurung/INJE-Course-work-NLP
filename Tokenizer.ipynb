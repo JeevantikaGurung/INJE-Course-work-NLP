{
  "nbformat": 4,
  "nbformat_minor": 0,
  "metadata": {
    "colab": {
      "provenance": []
    },
    "kernelspec": {
      "name": "python3",
      "display_name": "Python 3"
    },
    "language_info": {
      "name": "python"
    }
  },
  "cells": [
    {
      "cell_type": "code",
      "execution_count": 5,
      "metadata": {
        "colab": {
          "base_uri": "https://localhost:8080/"
        },
        "id": "MOxykrI3-0dB",
        "outputId": "0a61adaf-4675-46f0-d387-de4a215b588c"
      },
      "outputs": [
        {
          "output_type": "stream",
          "name": "stdout",
          "text": [
            "Enter your text to build the vocab: I like to study Reinforcement learning. I also like to listen to music.\n",
            "\n",
            " vocab built for you\n",
            "Vocab:  {'<UNK>': 0, 'I': 1, 'Reinforcement': 2, 'also': 3, 'learning.': 4, 'like': 5, 'listen': 6, 'music.': 7, 'study': 8, 'to': 9}\n",
            "\n",
            "Enter your text to encode: I like to study AI and listen to BTS\n",
            "\n",
            "encode ids:  [1, 5, 9, 8, 0, 0, 6, 9, 0]\n",
            "\n",
            "decoded:  I like to study <UNK> <UNK> listen to <UNK>\n"
          ]
        }
      ],
      "source": [
        "class tokenizer:\n",
        "  def __init__(self):\n",
        "    self.w2i, self.i2w = {\"<UNK>\":0}, {0:\"<UNK>\"}\n",
        "  def build_v(self, texts):\n",
        "    if isinstance(texts, str): texts = [texts]\n",
        "    for i,w in enumerate(sorted(set(\" \".join(texts).split())),1):\n",
        "      self.w2i[w], self.i2w[i] = i, w\n",
        "  def encode(self, text):\n",
        "    return [self.w2i.get(w,0) for w in text.split()]\n",
        "  def decode(self, ids):\n",
        "    return \" \".join(self.i2w.get(i,\"<UNK>\") for i in ids)\n",
        "t = tokenizer()\n",
        "train_text = input(\"Enter your text to build the vocab: \").strip()\n",
        "t.build_v(train_text)\n",
        "print(\"\\n vocab built for you\")\n",
        "print(\"Vocab: \", t.w2i)\n",
        "test = input(\"\\nEnter your text to encode: \").strip()\n",
        "encode = t.encode(test)\n",
        "decode = t.decode(encode)\n",
        "print(\"\\nencode ids: \", encode)\n",
        "print(\"\\ndecoded: \", decode)"
      ]
    },
    {
      "cell_type": "code",
      "source": [
        ""
      ],
      "metadata": {
        "id": "lJP0_Zh0_UR1"
      },
      "execution_count": 9,
      "outputs": []
    }
  ]
}